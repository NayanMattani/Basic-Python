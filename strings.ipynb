{
  "nbformat": 4,
  "nbformat_minor": 0,
  "metadata": {
    "colab": {
      "provenance": [],
      "authorship_tag": "ABX9TyMrZEzaFaOftCgevi0+AgDg",
      "include_colab_link": true
    },
    "kernelspec": {
      "name": "python3",
      "display_name": "Python 3"
    },
    "language_info": {
      "name": "python"
    }
  },
  "cells": [
    {
      "cell_type": "markdown",
      "metadata": {
        "id": "view-in-github",
        "colab_type": "text"
      },
      "source": [
        "<a href=\"https://colab.research.google.com/github/NayanMattani/Basic-Python/blob/main/strings.ipynb\" target=\"_parent\"><img src=\"https://colab.research.google.com/assets/colab-badge.svg\" alt=\"Open In Colab\"/></a>"
      ]
    },
    {
      "cell_type": "markdown",
      "source": [
        "Python program to calculate the length of a string."
      ],
      "metadata": {
        "id": "zl5TrTxL8aQj"
      }
    },
    {
      "cell_type": "code",
      "source": [
        "string1 = 'palindrome'\n",
        "len(string1)"
      ],
      "metadata": {
        "colab": {
          "base_uri": "https://localhost:8080/"
        },
        "id": "MeiwChZw8byw",
        "outputId": "8924823f-2c5a-41c6-9860-79d04e1b1ec3"
      },
      "execution_count": 50,
      "outputs": [
        {
          "output_type": "execute_result",
          "data": {
            "text/plain": [
              "10"
            ]
          },
          "metadata": {},
          "execution_count": 50
        }
      ]
    },
    {
      "cell_type": "markdown",
      "source": [
        "Python program to count the number of characters (character frequency) in a string.\n",
        "Sample String : google.com'\n",
        "Expected Result : {'g': 2, 'o': 3, 'l': 1, 'e': 1, '.': 1, 'c': 1, 'm': 1}"
      ],
      "metadata": {
        "id": "Z6k4Jv5_8zv_"
      }
    },
    {
      "cell_type": "code",
      "source": [
        "from collections import Counter\n",
        "sample_string = 'google.com'\n",
        "list_char = list(sample_string)\n",
        "Counter(list_char)"
      ],
      "metadata": {
        "colab": {
          "base_uri": "https://localhost:8080/"
        },
        "id": "eds0aOiA81cW",
        "outputId": "644d3049-5e6f-4f7b-9ead-1cdf73785ad5"
      },
      "execution_count": 51,
      "outputs": [
        {
          "output_type": "execute_result",
          "data": {
            "text/plain": [
              "Counter({'g': 2, 'o': 3, 'l': 1, 'e': 1, '.': 1, 'c': 1, 'm': 1})"
            ]
          },
          "metadata": {},
          "execution_count": 51
        }
      ]
    },
    {
      "cell_type": "markdown",
      "source": [
        "Python program to remove characters that have odd index values in a given string."
      ],
      "metadata": {
        "id": "l2hjtwTH_a8R"
      }
    },
    {
      "cell_type": "code",
      "source": [
        "sample_string = 'google'\n",
        "list_chars = list(sample_string)\n",
        "new_string = ''\n",
        "for i, j in enumerate(list_chars):\n",
        "  if i%2 ==0:\n",
        "    new_string += j\n",
        "new_string"
      ],
      "metadata": {
        "colab": {
          "base_uri": "https://localhost:8080/",
          "height": 36
        },
        "id": "9SXNvHsr_g-W",
        "outputId": "3b776ca2-c4a9-43e6-cc9a-3deafbf9efdd"
      },
      "execution_count": 52,
      "outputs": [
        {
          "output_type": "execute_result",
          "data": {
            "text/plain": [
              "'gol'"
            ],
            "application/vnd.google.colaboratory.intrinsic+json": {
              "type": "string"
            }
          },
          "metadata": {},
          "execution_count": 52
        }
      ]
    },
    {
      "cell_type": "markdown",
      "source": [
        "Python program to count the occurrences of each word in a given sentence. "
      ],
      "metadata": {
        "id": "ayFRui-0AW8N"
      }
    },
    {
      "cell_type": "code",
      "source": [
        "from collections import Counter\n",
        "new_string = 'Google is the worst company to work for. It is the best at layoffs'\n",
        "list_strings = new_string.split()\n",
        "Counter(list_strings)"
      ],
      "metadata": {
        "colab": {
          "base_uri": "https://localhost:8080/"
        },
        "id": "O9Yz5HSPAYCe",
        "outputId": "87ac9715-de31-428a-9a26-92e41d12cf08"
      },
      "execution_count": 53,
      "outputs": [
        {
          "output_type": "execute_result",
          "data": {
            "text/plain": [
              "Counter({'Google': 1,\n",
              "         'is': 2,\n",
              "         'the': 2,\n",
              "         'worst': 1,\n",
              "         'company': 1,\n",
              "         'to': 1,\n",
              "         'work': 1,\n",
              "         'for.': 1,\n",
              "         'It': 1,\n",
              "         'best': 1,\n",
              "         'at': 1,\n",
              "         'layoffs': 1})"
            ]
          },
          "metadata": {},
          "execution_count": 53
        }
      ]
    },
    {
      "cell_type": "markdown",
      "source": [
        "Python function to reverse a string if its length is a multiple of 4. "
      ],
      "metadata": {
        "id": "mslc00EzBR7T"
      }
    },
    {
      "cell_type": "code",
      "source": [
        "string1 = 'palindrome12'\n",
        "def reverse_function(string2): \n",
        "  if len(string2)%4 == 0:\n",
        "    reversed_string = string2[::-1]\n",
        "    print(reversed_string)\n",
        "\n",
        "reverse_function(string1)"
      ],
      "metadata": {
        "colab": {
          "base_uri": "https://localhost:8080/"
        },
        "id": "yU3NiqWNBTcy",
        "outputId": "8c418290-4698-468a-fcb8-d633d2610e0c"
      },
      "execution_count": 54,
      "outputs": [
        {
          "output_type": "stream",
          "name": "stdout",
          "text": [
            "21emordnilap\n"
          ]
        }
      ]
    },
    {
      "cell_type": "markdown",
      "source": [
        "Python program to count occurrences of a substring in a string."
      ],
      "metadata": {
        "id": "fK497zwUDqeW"
      }
    },
    {
      "cell_type": "code",
      "source": [
        "sample_string = 'Google is the worst company to work for. It is the best at layoffs'\n",
        "substring = 'the'\n",
        "sample_string.count(substring)"
      ],
      "metadata": {
        "colab": {
          "base_uri": "https://localhost:8080/"
        },
        "id": "em1EU7UZDtSS",
        "outputId": "e3b19e7e-915a-4530-a9a3-b8df346a27c9"
      },
      "execution_count": 55,
      "outputs": [
        {
          "output_type": "execute_result",
          "data": {
            "text/plain": [
              "2"
            ]
          },
          "metadata": {},
          "execution_count": 55
        }
      ]
    },
    {
      "cell_type": "markdown",
      "source": [
        "Python program to reverse a string"
      ],
      "metadata": {
        "id": "Zt4Gy4G1D9r3"
      }
    },
    {
      "cell_type": "code",
      "source": [
        "original_string = 'palindrome'\n",
        "reverse_string = original_string[::-1]\n",
        "reverse_string"
      ],
      "metadata": {
        "colab": {
          "base_uri": "https://localhost:8080/",
          "height": 36
        },
        "id": "EUF6CqlAD-Nh",
        "outputId": "06870be9-05ff-457e-f3e7-4e98672fb2ee"
      },
      "execution_count": 56,
      "outputs": [
        {
          "output_type": "execute_result",
          "data": {
            "text/plain": [
              "'emordnilap'"
            ],
            "application/vnd.google.colaboratory.intrinsic+json": {
              "type": "string"
            }
          },
          "metadata": {},
          "execution_count": 56
        }
      ]
    },
    {
      "cell_type": "markdown",
      "source": [
        "Python program to reverse words in a string"
      ],
      "metadata": {
        "id": "Z71YFPvbEPS3"
      }
    },
    {
      "cell_type": "code",
      "source": [
        "sample_string = 'Google is the worst company to work for. It is the best at layoffs'\n",
        "list_words = sample_string.split()\n",
        "reverse_list = []\n",
        "for i in list_words:\n",
        "  reverse_list.append(i[::-1])\n",
        "reverse_string = ' '.join(reverse_list)\n",
        "reverse_string"
      ],
      "metadata": {
        "colab": {
          "base_uri": "https://localhost:8080/",
          "height": 36
        },
        "id": "6c7QEj2SEP66",
        "outputId": "b2007100-acb6-4f3d-ec22-0a1bd978d081"
      },
      "execution_count": 57,
      "outputs": [
        {
          "output_type": "execute_result",
          "data": {
            "text/plain": [
              "'elgooG si eht tsrow ynapmoc ot krow .rof tI si eht tseb ta sffoyal'"
            ],
            "application/vnd.google.colaboratory.intrinsic+json": {
              "type": "string"
            }
          },
          "metadata": {},
          "execution_count": 57
        }
      ]
    },
    {
      "cell_type": "markdown",
      "source": [
        "Python program to print the index of a character in a string"
      ],
      "metadata": {
        "id": "9Mhl-E9gGAYZ"
      }
    },
    {
      "cell_type": "code",
      "source": [
        "string2 = 'w3resource'\n",
        "list_chars = list(string2)\n",
        "list_chars\n",
        "for i, j in enumerate(list_chars):\n",
        "  print('Index of', j, '', i)"
      ],
      "metadata": {
        "id": "4vNrOzMVGCBK",
        "colab": {
          "base_uri": "https://localhost:8080/"
        },
        "outputId": "9627b31e-76af-48dc-a31d-659de91053e0"
      },
      "execution_count": 58,
      "outputs": [
        {
          "output_type": "stream",
          "name": "stdout",
          "text": [
            "Index of w  0\n",
            "Index of 3  1\n",
            "Index of r  2\n",
            "Index of e  3\n",
            "Index of s  4\n",
            "Index of o  5\n",
            "Index of u  6\n",
            "Index of r  7\n",
            "Index of c  8\n",
            "Index of e  9\n"
          ]
        }
      ]
    },
    {
      "cell_type": "markdown",
      "source": [
        "Python program to convert a given string into a list of words."
      ],
      "metadata": {
        "id": "7PqKv7D5Gigg"
      }
    },
    {
      "cell_type": "code",
      "source": [
        "string_1 = 'Google is the worst company to work for. It is the best at layoffs'\n",
        "list_words = string_1.split()\n",
        "list_words\n"
      ],
      "metadata": {
        "id": "NzJ-durwGjdU",
        "colab": {
          "base_uri": "https://localhost:8080/"
        },
        "outputId": "04e292af-1270-4a1e-cdd1-dde604960773"
      },
      "execution_count": 59,
      "outputs": [
        {
          "output_type": "execute_result",
          "data": {
            "text/plain": [
              "['Google',\n",
              " 'is',\n",
              " 'the',\n",
              " 'worst',\n",
              " 'company',\n",
              " 'to',\n",
              " 'work',\n",
              " 'for.',\n",
              " 'It',\n",
              " 'is',\n",
              " 'the',\n",
              " 'best',\n",
              " 'at',\n",
              " 'layoffs']"
            ]
          },
          "metadata": {},
          "execution_count": 59
        }
      ]
    },
    {
      "cell_type": "markdown",
      "source": [
        "Python program to count and display vowels in text."
      ],
      "metadata": {
        "id": "XktM6HXtHqLh"
      }
    },
    {
      "cell_type": "code",
      "source": [
        "def vowel(text):\n",
        "    vowels = \"aeiuoAEIOU\"\n",
        "    print(len([letter for letter in text if letter in vowels]))\n",
        "    print([letter for letter in text if letter in vowels])\n",
        "vowel('w3resource');\n"
      ],
      "metadata": {
        "colab": {
          "base_uri": "https://localhost:8080/"
        },
        "id": "ylLRYSYNHr8X",
        "outputId": "dcebc601-456a-4d15-ccfe-64f092fb1328"
      },
      "execution_count": 60,
      "outputs": [
        {
          "output_type": "stream",
          "name": "stdout",
          "text": [
            "4\n",
            "['e', 'o', 'u', 'e']\n"
          ]
        }
      ]
    },
    {
      "cell_type": "markdown",
      "source": [
        "Python program to find the maximum number of characters in a given string."
      ],
      "metadata": {
        "id": "VybEM3XGIMpc"
      }
    },
    {
      "cell_type": "code",
      "source": [
        "from collections import Counter\n",
        "string2 = 'nayanispalindrome'\n",
        "new_chars = list(string2)\n",
        "dict1 = Counter(new_chars)\n",
        "expected_result = {}\n",
        "for i, j in dict1.items():\n",
        "  if j == max(dict1.values()):\n",
        "    expected_result[i] = j\n",
        "expected_result"
      ],
      "metadata": {
        "colab": {
          "base_uri": "https://localhost:8080/"
        },
        "id": "Dr9uUfLHIN57",
        "outputId": "3b25451a-0208-48e8-bcf6-1a06373fb7a8"
      },
      "execution_count": 61,
      "outputs": [
        {
          "output_type": "execute_result",
          "data": {
            "text/plain": [
              "{'n': 3, 'a': 3}"
            ]
          },
          "metadata": {},
          "execution_count": 61
        }
      ]
    },
    {
      "cell_type": "markdown",
      "source": [
        "Python program to capitalize the first and last letters of each word in a given string."
      ],
      "metadata": {
        "id": "ehDSrmXJJsQR"
      }
    },
    {
      "cell_type": "code",
      "source": [
        "string_1 = 'Google is the worst company to work for. It is the best at layoffs'\n",
        "list_words = string_1.split()\n",
        "new_list_words = []\n",
        "for i in list_words:\n",
        "  new_string = i[0].upper() + i[1:-1] + i[-1].upper() \n",
        "  new_list_words.append(new_string)\n",
        "expected_string = ' '.join(new_list_words)\n",
        "expected_string"
      ],
      "metadata": {
        "colab": {
          "base_uri": "https://localhost:8080/",
          "height": 36
        },
        "id": "cIPTOWUCJuqU",
        "outputId": "dc7f7bd1-3893-4ecd-8ca9-d15acd59f9c9"
      },
      "execution_count": 62,
      "outputs": [
        {
          "output_type": "execute_result",
          "data": {
            "text/plain": [
              "'GooglE IS ThE WorsT CompanY TO WorK For. IT IS ThE BesT AT LayoffS'"
            ],
            "application/vnd.google.colaboratory.intrinsic+json": {
              "type": "string"
            }
          },
          "metadata": {},
          "execution_count": 62
        }
      ]
    },
    {
      "cell_type": "markdown",
      "source": [
        "Python program to remove duplicate characters from a given string."
      ],
      "metadata": {
        "id": "xB_VCEWNLp7b"
      }
    },
    {
      "cell_type": "code",
      "source": [
        "string1 = 'palindrome'\n",
        "char_list = list(string1)\n",
        "char_list = list(set(char_list))\n",
        "expected_string = ''.join(char_list)\n",
        "expected_string"
      ],
      "metadata": {
        "id": "SbBeNSozLvyd",
        "colab": {
          "base_uri": "https://localhost:8080/",
          "height": 36
        },
        "outputId": "2ac90686-a76b-444c-8f7d-f368ad954486"
      },
      "execution_count": 63,
      "outputs": [
        {
          "output_type": "execute_result",
          "data": {
            "text/plain": [
              "'eordamplni'"
            ],
            "application/vnd.google.colaboratory.intrinsic+json": {
              "type": "string"
            }
          },
          "metadata": {},
          "execution_count": 63
        }
      ]
    }
  ]
}