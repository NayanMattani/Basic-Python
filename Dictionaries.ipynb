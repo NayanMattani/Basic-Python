{
  "nbformat": 4,
  "nbformat_minor": 0,
  "metadata": {
    "colab": {
      "provenance": [],
      "authorship_tag": "ABX9TyPdx4gORhZysNUJZ6vtrRWl",
      "include_colab_link": true
    },
    "kernelspec": {
      "name": "python3",
      "display_name": "Python 3"
    },
    "language_info": {
      "name": "python"
    }
  },
  "cells": [
    {
      "cell_type": "markdown",
      "metadata": {
        "id": "view-in-github",
        "colab_type": "text"
      },
      "source": [
        "<a href=\"https://colab.research.google.com/github/NayanMattani/Basic-Python/blob/main/Dictionaries.ipynb\" target=\"_parent\"><img src=\"https://colab.research.google.com/assets/colab-badge.svg\" alt=\"Open In Colab\"/></a>"
      ]
    },
    {
      "cell_type": "markdown",
      "source": [
        "Python script to add a key to a dictionary.\n",
        "Sample Dictionary : {0: 10, 1: 20}\n",
        "Expected Result : {0: 10, 1: 20, 2: 30}"
      ],
      "metadata": {
        "id": "zfv9eHjVufau"
      }
    },
    {
      "cell_type": "code",
      "source": [
        "sample_dictionary = {0:10, 1:20}\n",
        "sample_dictionary[2] = 30\n",
        "sample_dictionary"
      ],
      "metadata": {
        "colab": {
          "base_uri": "https://localhost:8080/"
        },
        "id": "o7ZcHx3qukLA",
        "outputId": "d32c37fd-fa8b-4428-e07e-9c9f93b26962"
      },
      "execution_count": null,
      "outputs": [
        {
          "output_type": "execute_result",
          "data": {
            "text/plain": [
              "{0: 10, 1: 20, 2: 30}"
            ]
          },
          "metadata": {},
          "execution_count": 3
        }
      ]
    },
    {
      "cell_type": "markdown",
      "source": [
        "Python script to concatenate the following dictionaries to create a new one.\n",
        "\n",
        "Sample Dictionary :\n",
        "dic1={1:10, 2:20}\n",
        "dic2={3:30, 4:40}\n",
        "dic3={5:50,6:60}\n",
        "Expected Result : {1: 10, 2: 20, 3: 30, 4: 40, 5: 50, 6: 60}"
      ],
      "metadata": {
        "id": "rmZUmABcu0yq"
      }
    },
    {
      "cell_type": "code",
      "source": [
        "def merge( dict1, dict2, dict3):\n",
        "  res = dict1 | dict2 | dict3\n",
        "  return res\n",
        "\n",
        "dic1={1:10, 2:20} \n",
        "dic2={3:30, 4:40}\n",
        "dic3={5:50, 6:60} \n",
        "expected_result = merge(dic1, dic2, dic3)\n",
        "expected_result"
      ],
      "metadata": {
        "colab": {
          "base_uri": "https://localhost:8080/"
        },
        "id": "O0KrsDc2u3oz",
        "outputId": "798db1a5-6f7a-48bb-d221-b5f7376ead2f"
      },
      "execution_count": null,
      "outputs": [
        {
          "output_type": "execute_result",
          "data": {
            "text/plain": [
              "{1: 10, 2: 20, 3: 30, 4: 40, 5: 50, 6: 60}"
            ]
          },
          "metadata": {},
          "execution_count": 7
        }
      ]
    },
    {
      "cell_type": "markdown",
      "source": [
        "Python script to check whether a given key already exists in a dictionary."
      ],
      "metadata": {
        "id": "7lqVY4zzvwRv"
      }
    },
    {
      "cell_type": "code",
      "source": [
        "1 in dic1.keys()"
      ],
      "metadata": {
        "colab": {
          "base_uri": "https://localhost:8080/"
        },
        "id": "PKf6L_F8vyVJ",
        "outputId": "04eff3e5-f89b-4707-8dc2-fd8c40317166"
      },
      "execution_count": null,
      "outputs": [
        {
          "output_type": "execute_result",
          "data": {
            "text/plain": [
              "True"
            ]
          },
          "metadata": {},
          "execution_count": 9
        }
      ]
    },
    {
      "cell_type": "markdown",
      "source": [
        "Python program to iterate over dictionaries using for loops"
      ],
      "metadata": {
        "id": "y_WRO5mnv5qr"
      }
    },
    {
      "cell_type": "code",
      "source": [
        "for i, j in dic1.items():\n",
        "  print('key :', i,'value :', j)"
      ],
      "metadata": {
        "colab": {
          "base_uri": "https://localhost:8080/"
        },
        "id": "B-hW8t8lwDy-",
        "outputId": "250e0599-72cb-4db8-cfbb-444a031da1e4"
      },
      "execution_count": null,
      "outputs": [
        {
          "output_type": "stream",
          "name": "stdout",
          "text": [
            "key : 1 value : 10\n",
            "key : 2 value : 20\n"
          ]
        }
      ]
    },
    {
      "cell_type": "markdown",
      "source": [
        " Python script to generate and print a dictionary that contains a number (between 1 and n) in the form (x, x*x)\n",
        "Sample Dictionary ( n = 5) :\n",
        "Expected Output : {1: 1, 2: 4, 3: 9, 4: 16, 5: 25}"
      ],
      "metadata": {
        "id": "7LB-RQ2Nv_TR"
      }
    },
    {
      "cell_type": "code",
      "source": [
        "n = 5\n",
        "expected_output = {}\n",
        "for i in range(1, n+1):\n",
        "  expected_output[i] = i*i\n",
        "expected_output"
      ],
      "metadata": {
        "colab": {
          "base_uri": "https://localhost:8080/"
        },
        "id": "gndbC1W4wWjO",
        "outputId": "8f9fef26-93b0-4429-fad7-4c636f459e27"
      },
      "execution_count": null,
      "outputs": [
        {
          "output_type": "execute_result",
          "data": {
            "text/plain": [
              "{1: 1, 2: 4, 3: 9, 4: 16, 5: 25}"
            ]
          },
          "metadata": {},
          "execution_count": 13
        }
      ]
    },
    {
      "cell_type": "markdown",
      "source": [
        "Python program to sum all the items in a dictionary."
      ],
      "metadata": {
        "id": "9elfXDv_w-vO"
      }
    },
    {
      "cell_type": "code",
      "source": [
        "dict1 = {'google' : 35, 'microsoft': 45, 'adobe': 34}\n",
        "sum(dict1.values())"
      ],
      "metadata": {
        "colab": {
          "base_uri": "https://localhost:8080/"
        },
        "id": "1wfLomsYw_eB",
        "outputId": "010ebad2-38cf-4d9d-b5f7-c5f46d7988e1"
      },
      "execution_count": null,
      "outputs": [
        {
          "output_type": "execute_result",
          "data": {
            "text/plain": [
              "114"
            ]
          },
          "metadata": {},
          "execution_count": 14
        }
      ]
    },
    {
      "cell_type": "markdown",
      "source": [
        "Python program to multiply all the items in a dictionary."
      ],
      "metadata": {
        "id": "0_gY5cWuxV52"
      }
    },
    {
      "cell_type": "code",
      "source": [
        "result = 1\n",
        "for i, j in dict1.items():\n",
        "  result = result * j\n",
        "result"
      ],
      "metadata": {
        "colab": {
          "base_uri": "https://localhost:8080/"
        },
        "id": "-kL8sZX5xW3F",
        "outputId": "21ff02f7-751e-4827-ed3f-1f1926ee456b"
      },
      "execution_count": null,
      "outputs": [
        {
          "output_type": "execute_result",
          "data": {
            "text/plain": [
              "53550"
            ]
          },
          "metadata": {},
          "execution_count": 15
        }
      ]
    },
    {
      "cell_type": "markdown",
      "source": [
        "Python program to remove a key from a dictionary."
      ],
      "metadata": {
        "id": "j9880uiCxpSj"
      }
    },
    {
      "cell_type": "code",
      "source": [
        "del dict1['google']\n",
        "dict1"
      ],
      "metadata": {
        "colab": {
          "base_uri": "https://localhost:8080/"
        },
        "id": "wQ4WAtGFxp_8",
        "outputId": "31714102-9a13-4321-a60d-9ad22e025742"
      },
      "execution_count": null,
      "outputs": [
        {
          "output_type": "execute_result",
          "data": {
            "text/plain": [
              "{'microsoft': 45, 'adobe': 34}"
            ]
          },
          "metadata": {},
          "execution_count": 16
        }
      ]
    },
    {
      "cell_type": "markdown",
      "source": [
        " Python program to sort a given dictionary by key\n",
        " "
      ],
      "metadata": {
        "id": "2BJcolxnxxLZ"
      }
    },
    {
      "cell_type": "code",
      "source": [
        "dict4={1:10, 2:20, 7:20, 3:40}\n",
        "sorted(dict4)"
      ],
      "metadata": {
        "colab": {
          "base_uri": "https://localhost:8080/"
        },
        "id": "LyGkfOvLx27b",
        "outputId": "04101169-e940-492b-a3d1-bd1e5f8ac12e"
      },
      "execution_count": null,
      "outputs": [
        {
          "output_type": "execute_result",
          "data": {
            "text/plain": [
              "[1, 2, 3, 7]"
            ]
          },
          "metadata": {},
          "execution_count": 18
        }
      ]
    },
    {
      "cell_type": "markdown",
      "source": [
        "Python program to get the maximum and minimum values of a dictionary."
      ],
      "metadata": {
        "id": "uDrLUjHYyQoE"
      }
    },
    {
      "cell_type": "code",
      "source": [
        "print('Minimum value:', min(dict4.values()))\n",
        "print('Maximum value:', max(dict4.values()))"
      ],
      "metadata": {
        "colab": {
          "base_uri": "https://localhost:8080/"
        },
        "id": "qS6s4y8qySJM",
        "outputId": "e0863098-ddcd-434e-832b-e85be86beb00"
      },
      "execution_count": null,
      "outputs": [
        {
          "output_type": "stream",
          "name": "stdout",
          "text": [
            "Minimum value: 10\n",
            "Maximum value: 40\n"
          ]
        }
      ]
    },
    {
      "cell_type": "markdown",
      "source": [
        " Python program to check if a dictionary is empty or not \n"
      ],
      "metadata": {
        "id": "i8gofzaxyfLa"
      }
    },
    {
      "cell_type": "code",
      "source": [
        "my_dict = {}\n",
        "if len(my_dict) > 0:\n",
        "  print('Dictionary is not empty')\n",
        "else:\n",
        "  print('Dictionary is empty')"
      ],
      "metadata": {
        "id": "Q7vjhqQDyg4a",
        "colab": {
          "base_uri": "https://localhost:8080/"
        },
        "outputId": "5daf3ffb-58ba-43e6-de9c-1afdde6f763b"
      },
      "execution_count": 20,
      "outputs": [
        {
          "output_type": "stream",
          "name": "stdout",
          "text": [
            "Dictionary is empty\n"
          ]
        }
      ]
    },
    {
      "cell_type": "markdown",
      "source": [
        "Python program to combine two dictionary by adding values for common keys.\n",
        "d1 = {'a': 100, 'b': 200, 'c':300}\n",
        "d2 = {'a': 300, 'b': 200, 'd':400}\n",
        "Sample output: Counter({'a': 400, 'b': 400, 'd': 400, 'c': 300})"
      ],
      "metadata": {
        "id": "KxXHHBeezl_3"
      }
    },
    {
      "cell_type": "code",
      "source": [
        "from collections import Counter\n",
        "d1 = {'a': 100, 'b': 200, 'c':300} \n",
        "d2 = {'a': 300, 'b': 200, 'd':400}\n",
        "Counter(d1) + Counter(d2)"
      ],
      "metadata": {
        "colab": {
          "base_uri": "https://localhost:8080/"
        },
        "id": "gt64-8TGzm94",
        "outputId": "147f3a6a-206a-4b05-d86b-c4e04b038998"
      },
      "execution_count": 29,
      "outputs": [
        {
          "output_type": "execute_result",
          "data": {
            "text/plain": [
              "Counter({'a': 400, 'b': 400, 'c': 300, 'd': 400})"
            ]
          },
          "metadata": {},
          "execution_count": 29
        }
      ]
    },
    {
      "cell_type": "markdown",
      "source": [
        "Python program to print all distinct values in a dictionary.\n",
        "Sample Data : [{\"V\":\"S001\"}, {\"V\": \"S002\"}, {\"VI\": \"S001\"}, {\"VI\": \"S005\"}, {\"VII\":\"S005\"}, {\"V\":\"S009\"},{\"VIII\":\"S007\"}]\n",
        "Expected Output : Unique Values: {'S005', 'S002', 'S007', 'S001', 'S009'}"
      ],
      "metadata": {
        "id": "V_2CXxXx2K15"
      }
    },
    {
      "cell_type": "code",
      "source": [
        "sample_data = [{\"V\":\"S001\"}, {\"V\": \"S002\"}, {\"VI\": \"S001\"}, {\"VI\": \"S005\"}, {\"VII\":\"S005\"}, {\"V\":\"S009\"},{\"VIII\":\"S007\"}] \n",
        "values_list = []\n",
        "for i in sample_data:\n",
        "  for j, k in i.items():\n",
        "    values_list.append(k)\n",
        "set(values_list)"
      ],
      "metadata": {
        "colab": {
          "base_uri": "https://localhost:8080/"
        },
        "id": "_8JphoB_2MqX",
        "outputId": "d9208116-b49c-44ac-cae8-b2765f6b50ca"
      },
      "execution_count": 32,
      "outputs": [
        {
          "output_type": "execute_result",
          "data": {
            "text/plain": [
              "{'S001', 'S002', 'S005', 'S007', 'S009'}"
            ]
          },
          "metadata": {},
          "execution_count": 32
        }
      ]
    },
    {
      "cell_type": "markdown",
      "source": [
        "Python program to create a dictionary from a string.\n",
        "sample string : 'w3resource'\n",
        "Expected output: {'w': 1, '3': 1, 'r': 2, 'e': 2, 's': 1, 'o': 1, 'u': 1, 'c': 1}"
      ],
      "metadata": {
        "id": "vyc7sxIo3LOP"
      }
    },
    {
      "cell_type": "code",
      "source": [
        "from collections import Counter\n",
        "sample_string = 'w3resource'\n",
        "char_list = list(sample_string)\n",
        "Counter(char_list)"
      ],
      "metadata": {
        "colab": {
          "base_uri": "https://localhost:8080/"
        },
        "id": "F7tVQbHz3QGg",
        "outputId": "df914920-8ab7-42d6-a58f-2d69bfab99ae"
      },
      "execution_count": 34,
      "outputs": [
        {
          "output_type": "execute_result",
          "data": {
            "text/plain": [
              "Counter({'w': 1, '3': 1, 'r': 2, 'e': 2, 's': 1, 'o': 1, 'u': 1, 'c': 1})"
            ]
          },
          "metadata": {},
          "execution_count": 34
        }
      ]
    },
    {
      "cell_type": "markdown",
      "source": [
        "Python program to print a dictionary in table format.\n"
      ],
      "metadata": {
        "id": "Z8jUXmB03oJM"
      }
    },
    {
      "cell_type": "code",
      "source": [
        "import pandas as pd\n",
        "sample_dict = {'name': ['google', 'microsoft', 'amazon', 'adobe'], 'salary': [100, 200, 300, 250]}\n",
        "df = pd.DataFrame(sample_dict)\n",
        "df"
      ],
      "metadata": {
        "colab": {
          "base_uri": "https://localhost:8080/",
          "height": 175
        },
        "id": "PZgaSEuW3rVF",
        "outputId": "847df420-3fa8-41d9-8cc2-b68ba2e00200"
      },
      "execution_count": 35,
      "outputs": [
        {
          "output_type": "execute_result",
          "data": {
            "text/plain": [
              "        name  salary\n",
              "0     google     100\n",
              "1  microsoft     200\n",
              "2     amazon     300\n",
              "3      adobe     250"
            ],
            "text/html": [
              "\n",
              "  <div id=\"df-a637c339-4469-42e5-97c9-da0c92e625c6\">\n",
              "    <div class=\"colab-df-container\">\n",
              "      <div>\n",
              "<style scoped>\n",
              "    .dataframe tbody tr th:only-of-type {\n",
              "        vertical-align: middle;\n",
              "    }\n",
              "\n",
              "    .dataframe tbody tr th {\n",
              "        vertical-align: top;\n",
              "    }\n",
              "\n",
              "    .dataframe thead th {\n",
              "        text-align: right;\n",
              "    }\n",
              "</style>\n",
              "<table border=\"1\" class=\"dataframe\">\n",
              "  <thead>\n",
              "    <tr style=\"text-align: right;\">\n",
              "      <th></th>\n",
              "      <th>name</th>\n",
              "      <th>salary</th>\n",
              "    </tr>\n",
              "  </thead>\n",
              "  <tbody>\n",
              "    <tr>\n",
              "      <th>0</th>\n",
              "      <td>google</td>\n",
              "      <td>100</td>\n",
              "    </tr>\n",
              "    <tr>\n",
              "      <th>1</th>\n",
              "      <td>microsoft</td>\n",
              "      <td>200</td>\n",
              "    </tr>\n",
              "    <tr>\n",
              "      <th>2</th>\n",
              "      <td>amazon</td>\n",
              "      <td>300</td>\n",
              "    </tr>\n",
              "    <tr>\n",
              "      <th>3</th>\n",
              "      <td>adobe</td>\n",
              "      <td>250</td>\n",
              "    </tr>\n",
              "  </tbody>\n",
              "</table>\n",
              "</div>\n",
              "      <button class=\"colab-df-convert\" onclick=\"convertToInteractive('df-a637c339-4469-42e5-97c9-da0c92e625c6')\"\n",
              "              title=\"Convert this dataframe to an interactive table.\"\n",
              "              style=\"display:none;\">\n",
              "        \n",
              "  <svg xmlns=\"http://www.w3.org/2000/svg\" height=\"24px\"viewBox=\"0 0 24 24\"\n",
              "       width=\"24px\">\n",
              "    <path d=\"M0 0h24v24H0V0z\" fill=\"none\"/>\n",
              "    <path d=\"M18.56 5.44l.94 2.06.94-2.06 2.06-.94-2.06-.94-.94-2.06-.94 2.06-2.06.94zm-11 1L8.5 8.5l.94-2.06 2.06-.94-2.06-.94L8.5 2.5l-.94 2.06-2.06.94zm10 10l.94 2.06.94-2.06 2.06-.94-2.06-.94-.94-2.06-.94 2.06-2.06.94z\"/><path d=\"M17.41 7.96l-1.37-1.37c-.4-.4-.92-.59-1.43-.59-.52 0-1.04.2-1.43.59L10.3 9.45l-7.72 7.72c-.78.78-.78 2.05 0 2.83L4 21.41c.39.39.9.59 1.41.59.51 0 1.02-.2 1.41-.59l7.78-7.78 2.81-2.81c.8-.78.8-2.07 0-2.86zM5.41 20L4 18.59l7.72-7.72 1.47 1.35L5.41 20z\"/>\n",
              "  </svg>\n",
              "      </button>\n",
              "      \n",
              "  <style>\n",
              "    .colab-df-container {\n",
              "      display:flex;\n",
              "      flex-wrap:wrap;\n",
              "      gap: 12px;\n",
              "    }\n",
              "\n",
              "    .colab-df-convert {\n",
              "      background-color: #E8F0FE;\n",
              "      border: none;\n",
              "      border-radius: 50%;\n",
              "      cursor: pointer;\n",
              "      display: none;\n",
              "      fill: #1967D2;\n",
              "      height: 32px;\n",
              "      padding: 0 0 0 0;\n",
              "      width: 32px;\n",
              "    }\n",
              "\n",
              "    .colab-df-convert:hover {\n",
              "      background-color: #E2EBFA;\n",
              "      box-shadow: 0px 1px 2px rgba(60, 64, 67, 0.3), 0px 1px 3px 1px rgba(60, 64, 67, 0.15);\n",
              "      fill: #174EA6;\n",
              "    }\n",
              "\n",
              "    [theme=dark] .colab-df-convert {\n",
              "      background-color: #3B4455;\n",
              "      fill: #D2E3FC;\n",
              "    }\n",
              "\n",
              "    [theme=dark] .colab-df-convert:hover {\n",
              "      background-color: #434B5C;\n",
              "      box-shadow: 0px 1px 3px 1px rgba(0, 0, 0, 0.15);\n",
              "      filter: drop-shadow(0px 1px 2px rgba(0, 0, 0, 0.3));\n",
              "      fill: #FFFFFF;\n",
              "    }\n",
              "  </style>\n",
              "\n",
              "      <script>\n",
              "        const buttonEl =\n",
              "          document.querySelector('#df-a637c339-4469-42e5-97c9-da0c92e625c6 button.colab-df-convert');\n",
              "        buttonEl.style.display =\n",
              "          google.colab.kernel.accessAllowed ? 'block' : 'none';\n",
              "\n",
              "        async function convertToInteractive(key) {\n",
              "          const element = document.querySelector('#df-a637c339-4469-42e5-97c9-da0c92e625c6');\n",
              "          const dataTable =\n",
              "            await google.colab.kernel.invokeFunction('convertToInteractive',\n",
              "                                                     [key], {});\n",
              "          if (!dataTable) return;\n",
              "\n",
              "          const docLinkHtml = 'Like what you see? Visit the ' +\n",
              "            '<a target=\"_blank\" href=https://colab.research.google.com/notebooks/data_table.ipynb>data table notebook</a>'\n",
              "            + ' to learn more about interactive tables.';\n",
              "          element.innerHTML = '';\n",
              "          dataTable['output_type'] = 'display_data';\n",
              "          await google.colab.output.renderOutput(dataTable, element);\n",
              "          const docLink = document.createElement('div');\n",
              "          docLink.innerHTML = docLinkHtml;\n",
              "          element.appendChild(docLink);\n",
              "        }\n",
              "      </script>\n",
              "    </div>\n",
              "  </div>\n",
              "  "
            ]
          },
          "metadata": {},
          "execution_count": 35
        }
      ]
    },
    {
      "cell_type": "markdown",
      "source": [
        "Python program to sort Counter by value\n",
        "Sample data : {'Math':81, 'Physics':83, 'Chemistry':87}\n",
        "Expected data: [('Chemistry', 87), ('Physics', 83), ('Math', 81)]"
      ],
      "metadata": {
        "id": "ZgWLVvU_4eZD"
      }
    },
    {
      "cell_type": "code",
      "source": [
        "\n",
        "from collections import Counter\n",
        "sample_data = {'Math':81, 'Physics':83, 'Chemistry':87}\n",
        "x = Counter(sample_data)\n",
        "x.most_common("
      ],
      "metadata": {
        "colab": {
          "base_uri": "https://localhost:8080/"
        },
        "id": "NEGtUVKm4gHV",
        "outputId": "fb00a020-9f7d-4093-9fd9-065de12f867f"
      },
      "execution_count": 41,
      "outputs": [
        {
          "output_type": "execute_result",
          "data": {
            "text/plain": [
              "[('Chemistry', 87), ('Physics', 83), ('Math', 81)]"
            ]
          },
          "metadata": {},
          "execution_count": 41
        }
      ]
    },
    {
      "cell_type": "markdown",
      "source": [
        "Write a Python program to filter a dictionary based on values.\n",
        "Original Dictionary:\n",
        "{'Cierra Vega': 175, 'Alden Cantrell': 180, 'Kierra Gentry': 165, 'Pierre Cox': 190}\n",
        "Marks greater than 170:\n",
        "{'Cierra Vega': 175, 'Alden Cantrell': 180, 'Pierre Cox': 190}"
      ],
      "metadata": {
        "id": "m5lVM4wz5q0x"
      }
    },
    {
      "cell_type": "code",
      "source": [
        " original_dict = {'Cierra Vega': 175, 'Alden Cantrell': 180, 'Kierra Gentry': 165, 'Pierre Cox': 190}\n",
        " marks = 170\n",
        " new_dict = {}\n",
        " for i, j in original_dict.items():\n",
        "   if j > marks:\n",
        "    new_dict[i] = j\n",
        "  \n",
        "new_dict"
      ],
      "metadata": {
        "colab": {
          "base_uri": "https://localhost:8080/"
        },
        "id": "87N3IfI05s0D",
        "outputId": "dfa21939-583f-41f5-9f67-926ae209c0f3"
      },
      "execution_count": 50,
      "outputs": [
        {
          "output_type": "execute_result",
          "data": {
            "text/plain": [
              "{'Cierra Vega': 175, 'Alden Cantrell': 180, 'Pierre Cox': 190}"
            ]
          },
          "metadata": {},
          "execution_count": 50
        }
      ]
    }
  ]
}