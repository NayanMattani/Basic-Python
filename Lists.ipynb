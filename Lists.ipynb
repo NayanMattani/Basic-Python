{
  "nbformat": 4,
  "nbformat_minor": 0,
  "metadata": {
    "colab": {
      "provenance": [],
      "authorship_tag": "ABX9TyPbJYxqhbYWjehuFCdXr106",
      "include_colab_link": true
    },
    "kernelspec": {
      "name": "python3",
      "display_name": "Python 3"
    },
    "language_info": {
      "name": "python"
    }
  },
  "cells": [
    {
      "cell_type": "markdown",
      "metadata": {
        "id": "view-in-github",
        "colab_type": "text"
      },
      "source": [
        "<a href=\"https://colab.research.google.com/github/NayanMattani/Basic-Python/blob/main/Lists.ipynb\" target=\"_parent\"><img src=\"https://colab.research.google.com/assets/colab-badge.svg\" alt=\"Open In Colab\"/></a>"
      ]
    },
    {
      "cell_type": "markdown",
      "source": [
        "Python program to sum all the items in a list."
      ],
      "metadata": {
        "id": "ZVCFLGOxZuwf"
      }
    },
    {
      "cell_type": "code",
      "source": [
        "list1 = [10, 20, 30, 10, 30, 60]\n",
        "sum(list1)"
      ],
      "metadata": {
        "colab": {
          "base_uri": "https://localhost:8080/"
        },
        "id": "1Ga7EjTzZ1Xu",
        "outputId": "d8b33555-1e0f-4506-ab34-06fd873fff5c"
      },
      "execution_count": null,
      "outputs": [
        {
          "output_type": "execute_result",
          "data": {
            "text/plain": [
              "160"
            ]
          },
          "metadata": {},
          "execution_count": 1
        }
      ]
    },
    {
      "cell_type": "markdown",
      "source": [
        "Python program to multiply all the items in a list."
      ],
      "metadata": {
        "id": "eTe_nE_EaEEv"
      }
    },
    {
      "cell_type": "code",
      "source": [
        "[5 * x for x in list1 ]"
      ],
      "metadata": {
        "colab": {
          "base_uri": "https://localhost:8080/"
        },
        "id": "1hyyAUESaIKv",
        "outputId": "065a4deb-a944-4a34-ff37-2a76f58e3cd2"
      },
      "execution_count": null,
      "outputs": [
        {
          "output_type": "execute_result",
          "data": {
            "text/plain": [
              "[50, 100, 150, 50, 150, 300]"
            ]
          },
          "metadata": {},
          "execution_count": 2
        }
      ]
    },
    {
      "cell_type": "markdown",
      "source": [
        "Python program to get the largest number and smallest from a list"
      ],
      "metadata": {
        "id": "rq2SVsuOaTPO"
      }
    },
    {
      "cell_type": "code",
      "source": [
        "print('Largest No:', max(list1))\n",
        "print('Samllest No:', min(list1))"
      ],
      "metadata": {
        "colab": {
          "base_uri": "https://localhost:8080/"
        },
        "id": "zEIKZ32eaYeW",
        "outputId": "d0f2f06c-dfb6-4e36-dd44-75ffb24c250c"
      },
      "execution_count": null,
      "outputs": [
        {
          "output_type": "stream",
          "name": "stdout",
          "text": [
            "Largest No: 60\n",
            "Samllest No: 10\n"
          ]
        }
      ]
    },
    {
      "cell_type": "markdown",
      "source": [
        "Python program to count the number of strings from a given list of strings. The string length is 2 or more and the first and last characters are the same."
      ],
      "metadata": {
        "id": "VZaQA6Rza0uH"
      }
    },
    {
      "cell_type": "code",
      "source": [
        "sample_list = ['abc', 'xyz', 'aba', '1221']\n",
        "new_list = []\n",
        "for i in sample_list:\n",
        "  if i[0] == i[-1]:\n",
        "    new_list.append(i)\n",
        "print(new_list)\n",
        "print('Count:', len(new_list))"
      ],
      "metadata": {
        "colab": {
          "base_uri": "https://localhost:8080/"
        },
        "id": "xVoqClIza4hX",
        "outputId": "fd1e2caf-c2f9-4a03-c08e-f0e58041f912"
      },
      "execution_count": null,
      "outputs": [
        {
          "output_type": "stream",
          "name": "stdout",
          "text": [
            "['aba', '1221']\n",
            "Count: 2\n"
          ]
        }
      ]
    },
    {
      "cell_type": "markdown",
      "source": [
        "Write a Python program to remove duplicates from a list. "
      ],
      "metadata": {
        "id": "rg5kzwj-biY9"
      }
    },
    {
      "cell_type": "code",
      "source": [
        "list2 = [10, 10, 20, 30, 40, 10, 20]\n",
        "print('Unique elements in list', list(set(list2)))"
      ],
      "metadata": {
        "colab": {
          "base_uri": "https://localhost:8080/"
        },
        "id": "243IzTwSbjfz",
        "outputId": "dee30bee-a951-4c5b-cae8-1c5abee48d8d"
      },
      "execution_count": null,
      "outputs": [
        {
          "output_type": "stream",
          "name": "stdout",
          "text": [
            "Unique elements in list [40, 10, 20, 30]\n"
          ]
        }
      ]
    },
    {
      "cell_type": "markdown",
      "source": [
        "Python program to check if a list is empty or not"
      ],
      "metadata": {
        "id": "-x92GDFdb2Yz"
      }
    },
    {
      "cell_type": "code",
      "source": [
        "list3 = []\n",
        "if len(list3) == 0:\n",
        "  print('list is empty')\n",
        "else:\n",
        "  print('list is not empty')"
      ],
      "metadata": {
        "colab": {
          "base_uri": "https://localhost:8080/"
        },
        "id": "4-v8dcAPb-i7",
        "outputId": "5c881ba9-8241-47c8-ed52-07d19495dca7"
      },
      "execution_count": null,
      "outputs": [
        {
          "output_type": "stream",
          "name": "stdout",
          "text": [
            "list is empty\n"
          ]
        }
      ]
    },
    {
      "cell_type": "markdown",
      "source": [
        "Python program to clone or copy a list"
      ],
      "metadata": {
        "id": "Q4pMdihEcKXA"
      }
    },
    {
      "cell_type": "code",
      "source": [
        "list_copy = list1[:]\n",
        "list_copy"
      ],
      "metadata": {
        "colab": {
          "base_uri": "https://localhost:8080/"
        },
        "id": "YicsVYm5cMdn",
        "outputId": "908319f9-a52f-453c-a994-284f8695db0a"
      },
      "execution_count": null,
      "outputs": [
        {
          "output_type": "execute_result",
          "data": {
            "text/plain": [
              "[10, 20, 30, 10, 30, 60]"
            ]
          },
          "metadata": {},
          "execution_count": 7
        }
      ]
    },
    {
      "cell_type": "markdown",
      "source": [
        "Python program to find the list of words that are longer than n from a given list of words"
      ],
      "metadata": {
        "id": "Suw0e68DcVFQ"
      }
    },
    {
      "cell_type": "code",
      "source": [
        "n = 6\n",
        "list_words = ['google', 'microsoft', 'mckinsey', 'JPMorgan', 'MorganSatnley']\n",
        "list_with_n = []\n",
        "for i in list_words:\n",
        "  if len(i) > n:\n",
        "    list_with_n.append(i)\n",
        "\n",
        "print('List of words with more than n:', list_with_n)"
      ],
      "metadata": {
        "colab": {
          "base_uri": "https://localhost:8080/"
        },
        "id": "EX6is8yccZnE",
        "outputId": "ec2840c4-fde9-41fd-d240-fb559d3e811f"
      },
      "execution_count": null,
      "outputs": [
        {
          "output_type": "stream",
          "name": "stdout",
          "text": [
            "List of words with more than n: ['microsoft', 'mckinsey', 'JPMorgan', 'MorganSatnley']\n"
          ]
        }
      ]
    },
    {
      "cell_type": "markdown",
      "source": [
        "Write a Python function that takes two lists and returns True if they have at least one common member."
      ],
      "metadata": {
        "id": "982KtVoOc-Cl"
      }
    },
    {
      "cell_type": "code",
      "source": [
        "def common_member(lst1, lst2):\n",
        "  if len(set(lst1) & set(lst2)) > 0:\n",
        "    return True\n",
        "  else:\n",
        "    return False \n",
        "\n",
        "list3 = [10, 40, 30, 80]\n",
        "list4 = [20, 40, 30, 90]\n",
        "common_member(list3, list4)"
      ],
      "metadata": {
        "colab": {
          "base_uri": "https://localhost:8080/"
        },
        "id": "btXL9o2SdCAt",
        "outputId": "c610c6f4-e41c-4fc8-9e27-67d935addb07"
      },
      "execution_count": null,
      "outputs": [
        {
          "output_type": "execute_result",
          "data": {
            "text/plain": [
              "True"
            ]
          },
          "metadata": {},
          "execution_count": 9
        }
      ]
    },
    {
      "cell_type": "markdown",
      "source": [
        "Python program to print a specified list after removing the 0th, 4th and 5th elements.\n",
        "Sample List : ['Red', 'Green', 'White', 'Black', 'Pink', 'Yellow']\n",
        "Expected Output : ['Green', 'White', 'Black']"
      ],
      "metadata": {
        "id": "GhjPSEUndkMt"
      }
    },
    {
      "cell_type": "code",
      "source": [
        "sample_list =  ['Red', 'Green', 'White', 'Black', 'Pink', 'Yellow']\n",
        "expected_list = []\n",
        "for i, j in enumerate(sample_list):\n",
        "  if i not in (0, 4, 5):\n",
        "    expected_list.append(j)\n",
        "expected_list"
      ],
      "metadata": {
        "colab": {
          "base_uri": "https://localhost:8080/"
        },
        "id": "hMyeu1-edo9s",
        "outputId": "74088ce8-22be-4ae8-f52a-41b9848ff88e"
      },
      "execution_count": null,
      "outputs": [
        {
          "output_type": "execute_result",
          "data": {
            "text/plain": [
              "['Green', 'White', 'Black']"
            ]
          },
          "metadata": {},
          "execution_count": 10
        }
      ]
    },
    {
      "cell_type": "markdown",
      "source": [
        "Python program to calculate the difference between the two lists."
      ],
      "metadata": {
        "id": "sj0E6TzDd_ZO"
      }
    },
    {
      "cell_type": "code",
      "source": [
        "list1 = [10, 40, 30, 80]\n",
        "list2 = [20, 40, 30, 90]\n",
        "set(list1) - set(list2)"
      ],
      "metadata": {
        "colab": {
          "base_uri": "https://localhost:8080/"
        },
        "id": "iOvjVNxDeAA-",
        "outputId": "c9a0a064-1233-4f72-fc3b-d0dbdcf211ae"
      },
      "execution_count": null,
      "outputs": [
        {
          "output_type": "execute_result",
          "data": {
            "text/plain": [
              "{10, 80}"
            ]
          },
          "metadata": {},
          "execution_count": 11
        }
      ]
    },
    {
      "cell_type": "markdown",
      "source": [
        "Python program to access the index of a list"
      ],
      "metadata": {
        "id": "jQ3cQWQmeNb-"
      }
    },
    {
      "cell_type": "code",
      "source": [
        "list1 = [10, 40, 30, 80]\n",
        "for i, j in enumerate(list1):\n",
        "  print('Index ', i, ' value ', j)\n"
      ],
      "metadata": {
        "colab": {
          "base_uri": "https://localhost:8080/"
        },
        "id": "Zr58S0KLeN-1",
        "outputId": "17404d25-2538-4b8c-a2d0-c0d87639fdd8"
      },
      "execution_count": null,
      "outputs": [
        {
          "output_type": "stream",
          "name": "stdout",
          "text": [
            "Index  0  value  10\n",
            "Index  1  value  40\n",
            "Index  2  value  30\n",
            "Index  3  value  80\n"
          ]
        }
      ]
    },
    {
      "cell_type": "markdown",
      "source": [
        "Python program to convert a list of characters into a string."
      ],
      "metadata": {
        "id": "st5-TqjleggW"
      }
    },
    {
      "cell_type": "code",
      "source": [
        "list_chars = ['m', 'i', 'c', 'r', 'o', 's', 'o', 'f', 't']\n",
        "string = ''.join(list_chars)\n",
        "string"
      ],
      "metadata": {
        "colab": {
          "base_uri": "https://localhost:8080/",
          "height": 35
        },
        "id": "Gemo5pxHeg8t",
        "outputId": "a0c5633e-1d68-47fc-e183-f41fe66371db"
      },
      "execution_count": null,
      "outputs": [
        {
          "output_type": "execute_result",
          "data": {
            "text/plain": [
              "'microsoft'"
            ],
            "application/vnd.google.colaboratory.intrinsic+json": {
              "type": "string"
            }
          },
          "metadata": {},
          "execution_count": 13
        }
      ]
    },
    {
      "cell_type": "markdown",
      "source": [
        "Python program to flatten a shallow list."
      ],
      "metadata": {
        "id": "b7gLcpJF3vaB"
      }
    },
    {
      "cell_type": "code",
      "source": [
        "import itertools\n",
        "original_list = [[2,4,3],[1,5,6], [9], [7,9,0]]\n",
        "new_list = list(itertools.chain(*original_list))\n",
        "new_list"
      ],
      "metadata": {
        "colab": {
          "base_uri": "https://localhost:8080/"
        },
        "id": "SyRB3VCW3zkp",
        "outputId": "2e0e2900-3223-4518-ace6-937ba73fa751"
      },
      "execution_count": null,
      "outputs": [
        {
          "output_type": "execute_result",
          "data": {
            "text/plain": [
              "[2, 4, 3, 1, 5, 6, 9, 7, 9, 0]"
            ]
          },
          "metadata": {},
          "execution_count": 14
        }
      ]
    },
    {
      "cell_type": "markdown",
      "source": [
        "Python program to append a list to the second list"
      ],
      "metadata": {
        "id": "ZtWj942R4N3X"
      }
    },
    {
      "cell_type": "code",
      "source": [
        "list1 = [10, 20, 30, 50, 30]\n",
        "list2 = [10, 20]\n",
        "list1.extend(list2)\n",
        "list1"
      ],
      "metadata": {
        "colab": {
          "base_uri": "https://localhost:8080/"
        },
        "id": "L9ANYkr24OlA",
        "outputId": "f88e7c87-8425-4230-9aa6-a1f57116e4e5"
      },
      "execution_count": null,
      "outputs": [
        {
          "output_type": "execute_result",
          "data": {
            "text/plain": [
              "[10, 20, 30, 50, 30, 10, 20]"
            ]
          },
          "metadata": {},
          "execution_count": 15
        }
      ]
    },
    {
      "cell_type": "markdown",
      "source": [
        "Python program to find the second largest number in a list"
      ],
      "metadata": {
        "id": "cacYtqfK4fHc"
      }
    },
    {
      "cell_type": "code",
      "source": [
        "list1 = [10, 20, 30, 50, 30]\n",
        "sorted_list = sorted(list1, reverse = True)\n",
        "print('second largest element:', sorted_list[1])"
      ],
      "metadata": {
        "colab": {
          "base_uri": "https://localhost:8080/"
        },
        "id": "Ej92MhHI4gZO",
        "outputId": "7273da70-70a3-41a5-b449-5ca50952aa9f"
      },
      "execution_count": null,
      "outputs": [
        {
          "output_type": "stream",
          "name": "stdout",
          "text": [
            "second largest element: 30\n"
          ]
        }
      ]
    },
    {
      "cell_type": "markdown",
      "source": [
        "Python program to find the second largest number in a list"
      ],
      "metadata": {
        "id": "E2uYMmpk4zTx"
      }
    },
    {
      "cell_type": "code",
      "source": [
        "list1 = [10, 20, 30, 50, 30]\n",
        "sorted_list = sorted(list1)\n",
        "print('second smallest element:', sorted_list[1])"
      ],
      "metadata": {
        "colab": {
          "base_uri": "https://localhost:8080/"
        },
        "id": "7ikqvfgC4_V4",
        "outputId": "2e911e09-11be-4dd7-8d59-bde630af52c8"
      },
      "execution_count": null,
      "outputs": [
        {
          "output_type": "stream",
          "name": "stdout",
          "text": [
            "second smallest element: 20\n"
          ]
        }
      ]
    },
    {
      "cell_type": "markdown",
      "source": [
        "Python program to get unique values from a list"
      ],
      "metadata": {
        "id": "oqEJKmPF5H9Y"
      }
    },
    {
      "cell_type": "code",
      "source": [
        "list1 = [10, 20, 30, 50, 30]\n",
        "print('Unique values in list:', list(set(list1)))"
      ],
      "metadata": {
        "colab": {
          "base_uri": "https://localhost:8080/"
        },
        "id": "_VZKCrSg5JpY",
        "outputId": "aed74c65-9bd7-4ace-e02a-cf4f19465c41"
      },
      "execution_count": null,
      "outputs": [
        {
          "output_type": "stream",
          "name": "stdout",
          "text": [
            "Unique values in list: [10, 20, 50, 30]\n"
          ]
        }
      ]
    },
    {
      "cell_type": "markdown",
      "source": [
        "Python program to get the frequency of elements in a list"
      ],
      "metadata": {
        "id": "oKYCTFCv5RjP"
      }
    },
    {
      "cell_type": "code",
      "source": [
        "# With Counter\n",
        "# from collections import Counter\n",
        "# list1 = [10, 20, 30, 50, 30]\n",
        "# Counter(list1)\n",
        "# Without counter\n",
        "list1 = [10, 20, 30, 50, 30]\n",
        "new_list = {}\n",
        "for i in list1:\n",
        "  sum1 = 0\n",
        "  if i in new_list:\n",
        "    new_list[str(i)] += 1\n",
        "  else:\n",
        "    new_list[str(i)] = 1\n",
        "\n",
        "new_list\n"
      ],
      "metadata": {
        "colab": {
          "base_uri": "https://localhost:8080/"
        },
        "id": "my7JTA505Vng",
        "outputId": "dec2f309-d970-48b9-b092-a3a6c8304897"
      },
      "execution_count": null,
      "outputs": [
        {
          "output_type": "execute_result",
          "data": {
            "text/plain": [
              "{'10': 1, '20': 1, '30': 1, '50': 1}"
            ]
          },
          "metadata": {},
          "execution_count": 19
        }
      ]
    },
    {
      "cell_type": "markdown",
      "source": [
        "Python program to create a list by concatenating a given list with a range from 1 to n.\n",
        "Sample list : ['p', 'q']\n",
        "n =5\n",
        "Sample Output : ['p1', 'q1', 'p2', 'q2', 'p3', 'q3', 'p4', 'q4', 'p5', 'q5']"
      ],
      "metadata": {
        "id": "KGKKS4Vd6eFR"
      }
    },
    {
      "cell_type": "code",
      "source": [
        "sample_list = ['p', 'q']\n",
        "n = 5\n",
        "new_list = []\n",
        "for i in range(1, n+1):\n",
        "  for j in sample_list:\n",
        "    new_list.append(j + str(i))\n",
        "\n",
        "new_list"
      ],
      "metadata": {
        "colab": {
          "base_uri": "https://localhost:8080/"
        },
        "id": "Y4APDScJ6gT5",
        "outputId": "0c78af0a-5481-42ea-ee19-0e457e301578"
      },
      "execution_count": null,
      "outputs": [
        {
          "output_type": "execute_result",
          "data": {
            "text/plain": [
              "['p1', 'q1', 'p2', 'q2', 'p3', 'q3', 'p4', 'q4', 'p5', 'q5']"
            ]
          },
          "metadata": {},
          "execution_count": 20
        }
      ]
    },
    {
      "cell_type": "markdown",
      "source": [
        "Python program to find common items in two lists"
      ],
      "metadata": {
        "id": "c4ttQK7y7GZY"
      }
    },
    {
      "cell_type": "code",
      "source": [
        "list1 = [10, 20, 30, 40]\n",
        "list2 = [100, 40, 30, 60]\n",
        "set(list1) & set(list2)"
      ],
      "metadata": {
        "colab": {
          "base_uri": "https://localhost:8080/"
        },
        "id": "aCsBz4Mv7Iof",
        "outputId": "30f820b5-cd34-43a4-bd82-eab796a69aef"
      },
      "execution_count": null,
      "outputs": [
        {
          "output_type": "execute_result",
          "data": {
            "text/plain": [
              "{30, 40}"
            ]
          },
          "metadata": {},
          "execution_count": 21
        }
      ]
    },
    {
      "cell_type": "markdown",
      "source": [
        "Python program to convert a list of multiple integers into a single integer\n",
        "Sample list: [11, 33, 50]\n",
        "Expected Output: 113350"
      ],
      "metadata": {
        "id": "dfmCUHT57ZTB"
      }
    },
    {
      "cell_type": "code",
      "source": [
        "sample_list = [11, 33, 50]\n",
        "string = ''\n",
        "for i in sample_list:\n",
        "  string = string + str(i)\n",
        "int(string)"
      ],
      "metadata": {
        "colab": {
          "base_uri": "https://localhost:8080/"
        },
        "id": "F9BqUHmT7b7u",
        "outputId": "a6c19a5b-6001-46af-b366-6782a14b8dea"
      },
      "execution_count": null,
      "outputs": [
        {
          "output_type": "execute_result",
          "data": {
            "text/plain": [
              "113350"
            ]
          },
          "metadata": {},
          "execution_count": 22
        }
      ]
    },
    {
      "cell_type": "markdown",
      "source": [
        "Python program to select the odd items and even items from a list"
      ],
      "metadata": {
        "id": "_eGmvh-a8UjU"
      }
    },
    {
      "cell_type": "code",
      "source": [
        "list1 = [10, 20, 30, 55, 50, 20, 40, 65, 75]\n",
        "even_items = []\n",
        "odd_items = []\n",
        "for i in list1:\n",
        "  if i%2 == 0:\n",
        "    even_items.append(i)\n",
        "  else:\n",
        "    odd_items.append(i)\n",
        "\n",
        "print('even nos list', even_items)\n",
        "print('odd nos list', odd_items)"
      ],
      "metadata": {
        "colab": {
          "base_uri": "https://localhost:8080/"
        },
        "id": "XxcbbfBh8W24",
        "outputId": "1dd0f1ab-027b-4a9a-bc62-c58a003cc448"
      },
      "execution_count": null,
      "outputs": [
        {
          "output_type": "stream",
          "name": "stdout",
          "text": [
            "even nos list [10, 20, 30, 50, 20, 40]\n",
            "odd nos list [55, 65, 75]\n"
          ]
        }
      ]
    },
    {
      "cell_type": "markdown",
      "source": [
        "Python program to compute the difference between two lists."
      ],
      "metadata": {
        "id": "GOe5a6we9C1H"
      }
    },
    {
      "cell_type": "code",
      "source": [
        "list1 = [\"red\", \"orange\", \"green\", \"blue\", \"white\"]\n",
        "list2 = [\"black\", \"yellow\", \"green\", \"blue\"]\n",
        "print('list1 - list2', set(list1) - set(list2))\n",
        "print('list2 - list1', set(list2) - set(list1))"
      ],
      "metadata": {
        "colab": {
          "base_uri": "https://localhost:8080/"
        },
        "id": "nh50YZ0b9DVw",
        "outputId": "069293ea-0835-49ff-c75b-f3c0b9bb1e24"
      },
      "execution_count": null,
      "outputs": [
        {
          "output_type": "stream",
          "name": "stdout",
          "text": [
            "list1 - list2 {'red', 'orange', 'white'}\n",
            "list2 - list1 {'black', 'yellow'}\n"
          ]
        }
      ]
    },
    {
      "cell_type": "markdown",
      "source": [
        "Python program to convert a string to a list"
      ],
      "metadata": {
        "id": "7pTCdu2Y9r-u"
      }
    },
    {
      "cell_type": "code",
      "source": [
        "string = 'google'\n",
        "list(string)"
      ],
      "metadata": {
        "colab": {
          "base_uri": "https://localhost:8080/"
        },
        "id": "PsvyPzEA9sYg",
        "outputId": "5890a07a-f079-410d-bcaf-1ac3c0a56a80"
      },
      "execution_count": null,
      "outputs": [
        {
          "output_type": "execute_result",
          "data": {
            "text/plain": [
              "['g', 'o', 'o', 'g', 'l', 'e']"
            ]
          },
          "metadata": {},
          "execution_count": 25
        }
      ]
    },
    {
      "cell_type": "markdown",
      "source": [
        "Python program to replace the last element in a list with another list\n",
        "Sample data : [1, 3, 5, 7, 9, 10], [2, 4, 6, 8]\n",
        "Expected Output: [1, 3, 5, 7, 9, 2, 4, 6, 8]"
      ],
      "metadata": {
        "id": "QJz8-l0391b2"
      }
    },
    {
      "cell_type": "code",
      "source": [
        "sample_data =  [1, 3, 5, 7, 9, 10]\n",
        "added_data = [2, 4, 6, 8] \n",
        "del sample_data[-1]\n",
        "sample_data.extend(added_data)\n",
        "sample_data"
      ],
      "metadata": {
        "colab": {
          "base_uri": "https://localhost:8080/"
        },
        "id": "6tDzj4WG92BI",
        "outputId": "fc435b1d-abc2-4eeb-e91f-d1e0c2e134c5"
      },
      "execution_count": null,
      "outputs": [
        {
          "output_type": "execute_result",
          "data": {
            "text/plain": [
              "[1, 3, 5, 7, 9, 2, 4, 6, 8]"
            ]
          },
          "metadata": {},
          "execution_count": 26
        }
      ]
    },
    {
      "cell_type": "markdown",
      "source": [
        "Python program to iterate over two lists simultaneously"
      ],
      "metadata": {
        "id": "-F2sX547-rqQ"
      }
    },
    {
      "cell_type": "code",
      "source": [
        "list1 = [10, 30, 40]\n",
        "list2 = [30, 30, 70]\n",
        "list(zip(list1, list2))"
      ],
      "metadata": {
        "colab": {
          "base_uri": "https://localhost:8080/"
        },
        "id": "eMRz9zZf-sJY",
        "outputId": "6f01703f-1865-4226-d80b-c0c79f635854"
      },
      "execution_count": null,
      "outputs": [
        {
          "output_type": "execute_result",
          "data": {
            "text/plain": [
              "[(10, 30), (30, 30), (40, 70)]"
            ]
          },
          "metadata": {},
          "execution_count": 27
        }
      ]
    },
    {
      "cell_type": "markdown",
      "source": [
        "Write a Python program to move all zero digits to the end of a given list of numbers. Original list:\n",
        "[3, 4, 0, 0, 0, 6, 2, 0, 6, 7, 6, 0, 0, 0, 9, 10, 7, 4, 4, 5, 3, 0, 0, 2, 9, 7, 1]\n",
        "Move all zero digits to end of the said list of numbers:\n",
        "[3, 4, 6, 2, 6, 7, 6, 9, 10, 7, 4, 4, 5, 3, 2, 9, 7, 1, 0, 0, 0, 0, 0, 0, 0, 0, 0]"
      ],
      "metadata": {
        "id": "8JZoB20h-2pq"
      }
    },
    {
      "cell_type": "code",
      "source": [
        "Original_list = [3, 4, 0, 0, 0, 6, 2, 0, 6, 7, 6, 0, 0, 0, 9, 10, 7, 4, 4, 5, 3, 0, 0, 2, 9, 7, 1] \n",
        "list_with_zeros = []\n",
        "list_without_zeros = []\n",
        "expected_list = []\n",
        "for i in Original_list:\n",
        "  if i == 0:\n",
        "    list_with_zeros.append(i)\n",
        "  else:\n",
        "    list_without_zeros.append(i)\n",
        "list_without_zeros.extend(list_with_zeros)\n",
        "list_without_zeros"
      ],
      "metadata": {
        "colab": {
          "base_uri": "https://localhost:8080/"
        },
        "id": "D1tTOCcq-8m3",
        "outputId": "59fa7bad-d40f-4424-f6f0-68af118fb3f8"
      },
      "execution_count": null,
      "outputs": [
        {
          "output_type": "execute_result",
          "data": {
            "text/plain": [
              "[3,\n",
              " 4,\n",
              " 6,\n",
              " 2,\n",
              " 6,\n",
              " 7,\n",
              " 6,\n",
              " 9,\n",
              " 10,\n",
              " 7,\n",
              " 4,\n",
              " 4,\n",
              " 5,\n",
              " 3,\n",
              " 2,\n",
              " 9,\n",
              " 7,\n",
              " 1,\n",
              " 0,\n",
              " 0,\n",
              " 0,\n",
              " 0,\n",
              " 0,\n",
              " 0,\n",
              " 0,\n",
              " 0,\n",
              " 0]"
            ]
          },
          "metadata": {},
          "execution_count": 28
        }
      ]
    },
    {
      "cell_type": "markdown",
      "source": [
        "Python program to find the list in a list of lists whose sum of elements is the highest\n",
        "Sample lists: [1,2,3], [4,5,6], [10,11,12], [7,8,9]\n",
        "Expected Output: [10, 11, 12]"
      ],
      "metadata": {
        "id": "uV9TKG_v_pQJ"
      }
    },
    {
      "cell_type": "code",
      "source": [
        "sample_list = [[1,2,3], [4,5,6], [10,11,12], [7,8,9]]\n",
        "new_dict  = {}\n",
        "for i in sample_list:\n",
        "  sum1 = 0\n",
        "  for j in i:\n",
        "    sum1 += j\n",
        "  new_dict[str(i)] = sum1\n",
        "new_dict\n",
        "max_sum =  max(new_dict.values())\n",
        "min_sum = min(new_dict.values())\n",
        "expected_dict = {}\n",
        "for i, j in new_dict.items():\n",
        "  if j == min_sum:\n",
        "    expected_dict[i] = j\n",
        "  if j == max_sum:\n",
        "    expected_dict[i] = j\n",
        "expected_dict"
      ],
      "metadata": {
        "colab": {
          "base_uri": "https://localhost:8080/"
        },
        "id": "CpmEQC2h_pzh",
        "outputId": "ae4f6911-0ea1-4125-afaa-8b4edc9cc0ab"
      },
      "execution_count": null,
      "outputs": [
        {
          "output_type": "execute_result",
          "data": {
            "text/plain": [
              "{'[1, 2, 3]': 6, '[10, 11, 12]': 33}"
            ]
          },
          "metadata": {},
          "execution_count": 29
        }
      ]
    },
    {
      "cell_type": "markdown",
      "source": [
        "Python program to extend a list without appending. \n",
        "Sample data: [10, 20, 30]\n",
        "[40, 50, 60]\n",
        "Expected output : [40, 50, 60, 10, 20, 30]"
      ],
      "metadata": {
        "id": "U2hyLLRODC_r"
      }
    },
    {
      "cell_type": "code",
      "source": [
        "sample_data = [10, 20, 30]\n",
        "list_appended = [40, 50, 60]\n",
        "sample_data.extend(list_appended)\n",
        "sample_data"
      ],
      "metadata": {
        "colab": {
          "base_uri": "https://localhost:8080/"
        },
        "id": "uJFhB--dDHN6",
        "outputId": "b535ec82-9664-4281-83e1-1b91207504d7"
      },
      "execution_count": null,
      "outputs": [
        {
          "output_type": "execute_result",
          "data": {
            "text/plain": [
              "[10, 20, 30, 40, 50, 60]"
            ]
          },
          "metadata": {},
          "execution_count": 30
        }
      ]
    },
    {
      "cell_type": "markdown",
      "source": [
        "Python program to remove duplicates from a list of lists.\n",
        "Sample list : [[10, 20], [40], [30, 56, 25], [10, 20], [33], [40]]\n",
        "New List : [[10, 20], [30, 56, 25], [33], [40]]"
      ],
      "metadata": {
        "id": "b7p2qjVrDkuQ"
      }
    },
    {
      "cell_type": "code",
      "source": [
        "sample_list = [[10, 20], [40], [30, 56, 25], [10, 20], [33], [40]]\n",
        "string_list = []\n",
        "for i in sample_list:\n",
        "  string_list.append(str(i))\n",
        "print('Unique elements in list :', set(string_list))"
      ],
      "metadata": {
        "colab": {
          "base_uri": "https://localhost:8080/"
        },
        "id": "Y5IshpE4Dn1H",
        "outputId": "a03be889-e760-45a9-8054-17615292b67e"
      },
      "execution_count": null,
      "outputs": [
        {
          "output_type": "stream",
          "name": "stdout",
          "text": [
            "Unique elements in list : {'[40]', '[30, 56, 25]', '[10, 20]', '[33]'}\n"
          ]
        }
      ]
    },
    {
      "cell_type": "markdown",
      "source": [
        " Python program to find items starting with a specific character from a list\n",
        " Original list:\n",
        "['abcd', 'abc', 'bcd', 'bkie', 'cder', 'cdsw', 'sdfsd', 'dagfa', 'acjd']"
      ],
      "metadata": {
        "id": "a8Fx3NqsF-cf"
      }
    },
    {
      "cell_type": "code",
      "source": [
        "original_list = ['abcd', 'abc', 'bcd', 'bkie', 'cder', 'cdsw', 'sdfsd', 'dagfa', 'acjd']\n",
        "unique_chars_list = []\n",
        "for i in original_list:\n",
        "  unique_chars_list.append(i[0])\n",
        "unique_chars_list = list(set(unique_chars_list))\n",
        "chars_dict = {'a' : [], 'b': [], 'c': [], 'd': [], 's': []}\n",
        "for i in original_list:\n",
        "  if i[0] == 'a':\n",
        "    chars_dict['a'].append(i)\n",
        "  elif i[0] == 'b':\n",
        "    chars_dict['b'].append(i)\n",
        "  elif i[0] == 'c':\n",
        "    chars_dict['c'].append(i)\n",
        "  elif i[0] == 'd':\n",
        "    chars_dict['d'].append(i)\n",
        "  else:\n",
        "    chars_dict['s'].append(i)\n",
        "chars_dict"
      ],
      "metadata": {
        "colab": {
          "base_uri": "https://localhost:8080/"
        },
        "id": "nQTFxYy1GC7l",
        "outputId": "6e849a3a-5716-4d43-b51d-4606458fc9d0"
      },
      "execution_count": null,
      "outputs": [
        {
          "output_type": "execute_result",
          "data": {
            "text/plain": [
              "{'a': ['abcd', 'abc', 'acjd'],\n",
              " 'b': ['bcd', 'bkie'],\n",
              " 'c': ['cder', 'cdsw'],\n",
              " 'd': ['dagfa'],\n",
              " 's': ['sdfsd']}"
            ]
          },
          "metadata": {},
          "execution_count": 32
        }
      ]
    },
    {
      "cell_type": "markdown",
      "source": [
        "Sort the list in an ascending order python"
      ],
      "metadata": {
        "id": "SKGNiKh69fTC"
      }
    },
    {
      "cell_type": "code",
      "source": [
        "my_list = [-15, -26, 15, 1, 23, -64, 23, 76]\n",
        "new_list = []\n",
        "\n",
        "while my_list:\n",
        "    min = my_list[0]  \n",
        "    for x in my_list: \n",
        "        if x < min:\n",
        "            min = x\n",
        "    new_list.append(min)\n",
        "    my_list.remove(min)    \n",
        "\n",
        "print(new_list)"
      ],
      "metadata": {
        "id": "sPHnevda9kWm",
        "outputId": "0536f7c8-39a9-48b4-c323-a0a429f5e813",
        "colab": {
          "base_uri": "https://localhost:8080/"
        }
      },
      "execution_count": 11,
      "outputs": [
        {
          "output_type": "stream",
          "name": "stdout",
          "text": [
            "[-64, -26, -15, 1, 15, 23, 23, 76]\n"
          ]
        }
      ]
    }
  ]
}