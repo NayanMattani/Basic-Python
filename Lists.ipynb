{
  "nbformat": 4,
  "nbformat_minor": 0,
  "metadata": {
    "colab": {
      "provenance": [],
      "authorship_tag": "ABX9TyPrwgA74V0CgtvfHQY2/TY5",
      "include_colab_link": true
    },
    "kernelspec": {
      "name": "python3",
      "display_name": "Python 3"
    },
    "language_info": {
      "name": "python"
    }
  },
  "cells": [
    {
      "cell_type": "markdown",
      "metadata": {
        "id": "view-in-github",
        "colab_type": "text"
      },
      "source": [
        "<a href=\"https://colab.research.google.com/github/NayanMattani/Basic-Python/blob/main/Lists.ipynb\" target=\"_parent\"><img src=\"https://colab.research.google.com/assets/colab-badge.svg\" alt=\"Open In Colab\"/></a>"
      ]
    },
    {
      "cell_type": "markdown",
      "source": [
        "Python program to sum all the items in a list."
      ],
      "metadata": {
        "id": "ZVCFLGOxZuwf"
      }
    },
    {
      "cell_type": "code",
      "source": [
        "list1 = [10, 20, 30, 10, 30, 60]\n",
        "sum(list1)"
      ],
      "metadata": {
        "colab": {
          "base_uri": "https://localhost:8080/"
        },
        "id": "1Ga7EjTzZ1Xu",
        "outputId": "140b2ba5-966d-47aa-f84c-b1775e9a4145"
      },
      "execution_count": 1,
      "outputs": [
        {
          "output_type": "execute_result",
          "data": {
            "text/plain": [
              "160"
            ]
          },
          "metadata": {},
          "execution_count": 1
        }
      ]
    },
    {
      "cell_type": "markdown",
      "source": [
        "Python program to multiply all the items in a list."
      ],
      "metadata": {
        "id": "eTe_nE_EaEEv"
      }
    },
    {
      "cell_type": "code",
      "source": [
        "[5 * x for x in list1 ]"
      ],
      "metadata": {
        "colab": {
          "base_uri": "https://localhost:8080/"
        },
        "id": "1hyyAUESaIKv",
        "outputId": "edac99c2-adc7-4bc0-c8b3-633fc7154f88"
      },
      "execution_count": 2,
      "outputs": [
        {
          "output_type": "execute_result",
          "data": {
            "text/plain": [
              "[50, 100, 150, 50, 150, 300]"
            ]
          },
          "metadata": {},
          "execution_count": 2
        }
      ]
    },
    {
      "cell_type": "markdown",
      "source": [
        "Python program to get the largest number and smallest from a list"
      ],
      "metadata": {
        "id": "rq2SVsuOaTPO"
      }
    },
    {
      "cell_type": "code",
      "source": [
        "print('Largest No:', max(list1))\n",
        "print('Samllest No:', min(list1))"
      ],
      "metadata": {
        "colab": {
          "base_uri": "https://localhost:8080/"
        },
        "id": "zEIKZ32eaYeW",
        "outputId": "f75cdbc3-3779-4f81-c723-1e79de02b398"
      },
      "execution_count": 4,
      "outputs": [
        {
          "output_type": "stream",
          "name": "stdout",
          "text": [
            "Largest No: 60\n",
            "Samllest No: 10\n"
          ]
        }
      ]
    },
    {
      "cell_type": "markdown",
      "source": [
        "Python program to count the number of strings from a given list of strings. The string length is 2 or more and the first and last characters are the same."
      ],
      "metadata": {
        "id": "VZaQA6Rza0uH"
      }
    },
    {
      "cell_type": "code",
      "source": [
        "sample_list = ['abc', 'xyz', 'aba', '1221']\n",
        "new_list = []\n",
        "for i in sample_list:\n",
        "  if i[0] == i[-1]:\n",
        "    new_list.append(i)\n",
        "print(new_list)\n",
        "print('Count:', len(new_list))"
      ],
      "metadata": {
        "colab": {
          "base_uri": "https://localhost:8080/"
        },
        "id": "xVoqClIza4hX",
        "outputId": "98027f3b-e6e9-4b03-8356-10060a1e71e2"
      },
      "execution_count": 5,
      "outputs": [
        {
          "output_type": "stream",
          "name": "stdout",
          "text": [
            "['aba', '1221']\n",
            "Count: 2\n"
          ]
        }
      ]
    },
    {
      "cell_type": "markdown",
      "source": [
        "Write a Python program to remove duplicates from a list. "
      ],
      "metadata": {
        "id": "rg5kzwj-biY9"
      }
    },
    {
      "cell_type": "code",
      "source": [
        "list2 = [10, 10, 20, 30, 40, 10, 20]\n",
        "print('Unique elements in list', list(set(list2)))"
      ],
      "metadata": {
        "colab": {
          "base_uri": "https://localhost:8080/"
        },
        "id": "243IzTwSbjfz",
        "outputId": "8a5eb4fe-fef8-44ce-9b57-41367a1e31ce"
      },
      "execution_count": 8,
      "outputs": [
        {
          "output_type": "stream",
          "name": "stdout",
          "text": [
            "Unique elements in list [40, 10, 20, 30]\n"
          ]
        }
      ]
    },
    {
      "cell_type": "markdown",
      "source": [
        "Python program to check if a list is empty or not"
      ],
      "metadata": {
        "id": "-x92GDFdb2Yz"
      }
    },
    {
      "cell_type": "code",
      "source": [
        "list3 = []\n",
        "if len(list3) == 0:\n",
        "  print('list is empty')\n",
        "else:\n",
        "  print('list is not empty')"
      ],
      "metadata": {
        "colab": {
          "base_uri": "https://localhost:8080/"
        },
        "id": "4-v8dcAPb-i7",
        "outputId": "09b5c8c3-19df-4ba2-8f4c-3ce3c28e2480"
      },
      "execution_count": 9,
      "outputs": [
        {
          "output_type": "stream",
          "name": "stdout",
          "text": [
            "list is empty\n"
          ]
        }
      ]
    },
    {
      "cell_type": "markdown",
      "source": [
        "Python program to clone or copy a list"
      ],
      "metadata": {
        "id": "Q4pMdihEcKXA"
      }
    },
    {
      "cell_type": "code",
      "source": [
        "list_copy = list1[:]\n",
        "list_copy"
      ],
      "metadata": {
        "colab": {
          "base_uri": "https://localhost:8080/"
        },
        "id": "YicsVYm5cMdn",
        "outputId": "5d8af707-a57e-4598-d0ee-d236ca87f51a"
      },
      "execution_count": 10,
      "outputs": [
        {
          "output_type": "execute_result",
          "data": {
            "text/plain": [
              "[10, 10, 20, 30, 40, 10, 20]"
            ]
          },
          "metadata": {},
          "execution_count": 10
        }
      ]
    },
    {
      "cell_type": "markdown",
      "source": [
        "Python program to find the list of words that are longer than n from a given list of words"
      ],
      "metadata": {
        "id": "Suw0e68DcVFQ"
      }
    },
    {
      "cell_type": "code",
      "source": [
        "n = 6\n",
        "list_words = ['google', 'microsoft', 'mckinsey', 'JPMorgan', 'MorganSatnley']\n",
        "list_with_n = []\n",
        "for i in list_words:\n",
        "  if len(i) > n:\n",
        "    list_with_n.append(i)\n",
        "\n",
        "print('List of words with more than n:', list_with_n)"
      ],
      "metadata": {
        "colab": {
          "base_uri": "https://localhost:8080/"
        },
        "id": "EX6is8yccZnE",
        "outputId": "4aea35df-cdfa-4b8d-adf2-4d21e22afc91"
      },
      "execution_count": 11,
      "outputs": [
        {
          "output_type": "stream",
          "name": "stdout",
          "text": [
            "List of words with more than n: ['microsoft', 'mckinsey', 'JPMorgan', 'MorganSatnley']\n"
          ]
        }
      ]
    },
    {
      "cell_type": "markdown",
      "source": [
        "Write a Python function that takes two lists and returns True if they have at least one common member."
      ],
      "metadata": {
        "id": "982KtVoOc-Cl"
      }
    },
    {
      "cell_type": "code",
      "source": [
        "def common_member(lst1, lst2):\n",
        "  if len(set(lst1) & set(lst2)) > 0:\n",
        "    return True\n",
        "  else:\n",
        "    return False \n",
        "\n",
        "list3 = [10, 40, 30, 80]\n",
        "list4 = [20, 40, 30, 90]\n",
        "common_member(list3, list4)"
      ],
      "metadata": {
        "colab": {
          "base_uri": "https://localhost:8080/"
        },
        "id": "btXL9o2SdCAt",
        "outputId": "ab56aece-1498-44a5-a30d-e8bc30d08659"
      },
      "execution_count": 12,
      "outputs": [
        {
          "output_type": "execute_result",
          "data": {
            "text/plain": [
              "True"
            ]
          },
          "metadata": {},
          "execution_count": 12
        }
      ]
    },
    {
      "cell_type": "markdown",
      "source": [
        "Python program to print a specified list after removing the 0th, 4th and 5th elements.\n",
        "Sample List : ['Red', 'Green', 'White', 'Black', 'Pink', 'Yellow']\n",
        "Expected Output : ['Green', 'White', 'Black']"
      ],
      "metadata": {
        "id": "GhjPSEUndkMt"
      }
    },
    {
      "cell_type": "code",
      "source": [
        "sample_list =  ['Red', 'Green', 'White', 'Black', 'Pink', 'Yellow']\n",
        "expected_list = []\n",
        "for i, j in enumerate(sample_list):\n",
        "  if i not in (0, 4, 5):\n",
        "    expected_list.append(j)\n",
        "expected_list"
      ],
      "metadata": {
        "colab": {
          "base_uri": "https://localhost:8080/"
        },
        "id": "hMyeu1-edo9s",
        "outputId": "ebd29a93-f2d4-4101-e2c4-0c76d4fd3fe0"
      },
      "execution_count": 13,
      "outputs": [
        {
          "output_type": "execute_result",
          "data": {
            "text/plain": [
              "['Green', 'White', 'Black']"
            ]
          },
          "metadata": {},
          "execution_count": 13
        }
      ]
    },
    {
      "cell_type": "markdown",
      "source": [
        "Python program to calculate the difference between the two lists."
      ],
      "metadata": {
        "id": "sj0E6TzDd_ZO"
      }
    },
    {
      "cell_type": "code",
      "source": [
        "list1 = [10, 40, 30, 80]\n",
        "list2 = [20, 40, 30, 90]\n",
        "set(list1) - set(list2)"
      ],
      "metadata": {
        "colab": {
          "base_uri": "https://localhost:8080/"
        },
        "id": "iOvjVNxDeAA-",
        "outputId": "2d94af15-7a55-4e5b-d04d-24b4dff678c4"
      },
      "execution_count": 14,
      "outputs": [
        {
          "output_type": "execute_result",
          "data": {
            "text/plain": [
              "{10, 80}"
            ]
          },
          "metadata": {},
          "execution_count": 14
        }
      ]
    },
    {
      "cell_type": "markdown",
      "source": [
        "Python program to access the index of a list"
      ],
      "metadata": {
        "id": "jQ3cQWQmeNb-"
      }
    },
    {
      "cell_type": "code",
      "source": [
        "list1 = [10, 40, 30, 80]\n",
        "for i, j in enumerate(list1):\n",
        "  print('Index ', i, ' value ', j)\n"
      ],
      "metadata": {
        "colab": {
          "base_uri": "https://localhost:8080/"
        },
        "id": "Zr58S0KLeN-1",
        "outputId": "488cc650-8250-48a8-dfcf-0e03035684c1"
      },
      "execution_count": 15,
      "outputs": [
        {
          "output_type": "stream",
          "name": "stdout",
          "text": [
            "Index  0  value  10\n",
            "Index  1  value  40\n",
            "Index  2  value  30\n",
            "Index  3  value  80\n"
          ]
        }
      ]
    },
    {
      "cell_type": "markdown",
      "source": [
        "Python program to convert a list of characters into a string."
      ],
      "metadata": {
        "id": "st5-TqjleggW"
      }
    },
    {
      "cell_type": "code",
      "source": [
        "list_chars = ['m', 'i', 'c', 'r', 'o', 's', 'o', 'f', 't']\n",
        "string = ''.join(list_chars)\n",
        "string"
      ],
      "metadata": {
        "colab": {
          "base_uri": "https://localhost:8080/",
          "height": 35
        },
        "id": "Gemo5pxHeg8t",
        "outputId": "648107e0-7b18-48fc-c8a1-d51d9f8d38ab"
      },
      "execution_count": 16,
      "outputs": [
        {
          "output_type": "execute_result",
          "data": {
            "text/plain": [
              "'microsoft'"
            ],
            "application/vnd.google.colaboratory.intrinsic+json": {
              "type": "string"
            }
          },
          "metadata": {},
          "execution_count": 16
        }
      ]
    }
  ]
}